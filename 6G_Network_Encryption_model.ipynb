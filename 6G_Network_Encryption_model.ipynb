{
  "nbformat": 4,
  "nbformat_minor": 0,
  "metadata": {
    "colab": {
      "provenance": [],
      "toc_visible": true,
      "authorship_tag": "ABX9TyMGb3zrWYPTX7H/D6aalN42",
      "include_colab_link": true
    },
    "kernelspec": {
      "name": "python3",
      "display_name": "Python 3"
    },
    "language_info": {
      "name": "python"
    }
  },
  "cells": [
    {
      "cell_type": "markdown",
      "metadata": {
        "id": "view-in-github",
        "colab_type": "text"
      },
      "source": [
        "<a href=\"https://colab.research.google.com/github/kram254/6G-Network-Encryption-Machine-Learning-Model/blob/main/6G_Network_Encryption_model.ipynb\" target=\"_parent\"><img src=\"https://colab.research.google.com/assets/colab-badge.svg\" alt=\"Open In Colab\"/></a>"
      ]
    },
    {
      "cell_type": "markdown",
      "source": [
        "# **Loading Data**"
      ],
      "metadata": {
        "id": "fS9NURjwhx26"
      }
    },
    {
      "cell_type": "markdown",
      "source": [
        "## **Mounting google drive**"
      ],
      "metadata": {
        "id": "t6RL2CFJj9Dh"
      }
    },
    {
      "cell_type": "code",
      "source": [
        "from google.colab import drive\n",
        "drive.mount('/content/drive')"
      ],
      "metadata": {
        "colab": {
          "base_uri": "https://localhost:8080/"
        },
        "id": "Y2ZWHLpdkf3M",
        "outputId": "3d1d6e7a-2da7-4248-8f71-01ffc0c44ac5"
      },
      "execution_count": 1,
      "outputs": [
        {
          "output_type": "stream",
          "name": "stdout",
          "text": [
            "Mounted at /content/drive\n"
          ]
        }
      ]
    },
    {
      "cell_type": "markdown",
      "source": [
        "# **NSL_KDD dataset**"
      ],
      "metadata": {
        "id": "jAZfqcnIeM7t"
      }
    },
    {
      "cell_type": "code",
      "execution_count": 2,
      "metadata": {
        "id": "Q0EjgiSPfhwE",
        "colab": {
          "base_uri": "https://localhost:8080/"
        },
        "outputId": "b09b1abe-578a-4aa7-a04b-9bafb9b3b74f"
      },
      "outputs": [
        {
          "output_type": "stream",
          "name": "stdout",
          "text": [
            "   duration protocol_type     service flag  src_bytes  dst_bytes  land  \\\n",
            "0         0           tcp    ftp_data   SF        491          0     0   \n",
            "1         0           udp       other   SF        146          0     0   \n",
            "2         0           tcp     private   S0          0          0     0   \n",
            "3         0           tcp        http   SF        232       8153     0   \n",
            "4         0           tcp        http   SF        199        420     0   \n",
            "5         0           tcp     private  REJ          0          0     0   \n",
            "6         0           tcp     private   S0          0          0     0   \n",
            "7         0           tcp     private   S0          0          0     0   \n",
            "8         0           tcp  remote_job   S0          0          0     0   \n",
            "9         0           tcp     private   S0          0          0     0   \n",
            "\n",
            "   wrong_fragment  urgent  hot  ...  dst_host_srv_count  \\\n",
            "0               0       0    0  ...                  25   \n",
            "1               0       0    0  ...                   1   \n",
            "2               0       0    0  ...                  26   \n",
            "3               0       0    0  ...                 255   \n",
            "4               0       0    0  ...                 255   \n",
            "5               0       0    0  ...                  19   \n",
            "6               0       0    0  ...                   9   \n",
            "7               0       0    0  ...                  15   \n",
            "8               0       0    0  ...                  23   \n",
            "9               0       0    0  ...                  13   \n",
            "\n",
            "   dst_host_same_srv_rate  dst_host_diff_srv_rate  \\\n",
            "0                    0.17                    0.03   \n",
            "1                    0.00                    0.60   \n",
            "2                    0.10                    0.05   \n",
            "3                    1.00                    0.00   \n",
            "4                    1.00                    0.00   \n",
            "5                    0.07                    0.07   \n",
            "6                    0.04                    0.05   \n",
            "7                    0.06                    0.07   \n",
            "8                    0.09                    0.05   \n",
            "9                    0.05                    0.06   \n",
            "\n",
            "   dst_host_same_src_port_rate  dst_host_srv_diff_host_rate  \\\n",
            "0                         0.17                         0.00   \n",
            "1                         0.88                         0.00   \n",
            "2                         0.00                         0.00   \n",
            "3                         0.03                         0.04   \n",
            "4                         0.00                         0.00   \n",
            "5                         0.00                         0.00   \n",
            "6                         0.00                         0.00   \n",
            "7                         0.00                         0.00   \n",
            "8                         0.00                         0.00   \n",
            "9                         0.00                         0.00   \n",
            "\n",
            "   dst_host_serror_rate  dst_host_srv_serror_rate  dst_host_rerror_rate  \\\n",
            "0                  0.00                      0.00                  0.05   \n",
            "1                  0.00                      0.00                  0.00   \n",
            "2                  1.00                      1.00                  0.00   \n",
            "3                  0.03                      0.01                  0.00   \n",
            "4                  0.00                      0.00                  0.00   \n",
            "5                  0.00                      0.00                  1.00   \n",
            "6                  1.00                      1.00                  0.00   \n",
            "7                  1.00                      1.00                  0.00   \n",
            "8                  1.00                      1.00                  0.00   \n",
            "9                  1.00                      1.00                  0.00   \n",
            "\n",
            "   dst_host_srv_rerror_rate    label  \n",
            "0                      0.00   normal  \n",
            "1                      0.00   normal  \n",
            "2                      0.00  neptune  \n",
            "3                      0.01   normal  \n",
            "4                      0.00   normal  \n",
            "5                      1.00  neptune  \n",
            "6                      0.00  neptune  \n",
            "7                      0.00  neptune  \n",
            "8                      0.00  neptune  \n",
            "9                      0.00  neptune  \n",
            "\n",
            "[10 rows x 42 columns]\n"
          ]
        }
      ],
      "source": [
        "import pandas as pd\n",
        "\n",
        "nsl_kdd_col_names = [\"duration\",\"protocol_type\",\"service\",\"flag\",\"src_bytes\",\n",
        "    \"dst_bytes\",\"land\",\"wrong_fragment\",\"urgent\",\"hot\",\"num_failed_logins\",\n",
        "    \"logged_in\",\"num_compromised\",\"root_shell\",\"su_attempted\",\"num_root\",\n",
        "    \"num_file_creations\",\"num_shells\",\"num_access_files\",\"num_outbound_cmds\",\n",
        "    \"is_host_login\",\"is_guest_login\",\"count\",\"srv_count\",\"serror_rate\",\n",
        "    \"srv_serror_rate\",\"rerror_rate\",\"srv_rerror_rate\",\"same_srv_rate\",\n",
        "    \"diff_srv_rate\",\"srv_diff_host_rate\",\"dst_host_count\",\"dst_host_srv_count\",\n",
        "    \"dst_host_same_srv_rate\",\"dst_host_diff_srv_rate\",\"dst_host_same_src_port_rate\",\n",
        "    \"dst_host_srv_diff_host_rate\",\"dst_host_serror_rate\",\"dst_host_srv_serror_rate\",\n",
        "    \"dst_host_rerror_rate\",\"dst_host_srv_rerror_rate\",\"label\"]\n",
        "\n",
        "# Load the datasets\n",
        "nsl_kdd_train = pd.read_csv('/content/drive/MyDrive/6data/nsl-kdd/NSL_KDD_Train.csv', names=nsl_kdd_col_names)\n",
        "nsl_kdd_test = pd.read_csv('/content/drive/MyDrive/6data/nsl-kdd/NSL_KDD_Test.csv', names=nsl_kdd_col_names)\n",
        "\n",
        "# Concatenate train and test\n",
        "nsl_kdd = pd.concat([nsl_kdd_train, nsl_kdd_test], ignore_index=True)\n",
        "\n",
        "print(nsl_kdd.head(10))\n"
      ]
    },
    {
      "cell_type": "code",
      "source": [
        "# UNSW_NB15 does not have column names in the files, so we'll specify them\n",
        "unsw_col_names = [\"srcip\", \"sport\", \"dstip\", \"dsport\", \"proto\", \"state\", \"dur\", \"sbytes\", \"dbytes\", \"sttl\", \"dttl\", \"sloss\", \"dloss\", \"service\", \"Sload\", \"Dload\", \"Spkts\",\n",
        "                  \"Dpkts\", \"swin\", \"dwin\", \"stcpb\", \"dtcpb\", \"smeansz\", \"dmeansz\", \"trans_depth\", \"res_bdy_len\", \"Sjit\", \"Djit\", \"Stime\", \"Ltime\", \"Sintpkt\", \"Dintpkt\", \"tcprtt\",\n",
        "                  \"synack\", \"ackdat\", \"is_sm_ips_ports\", \"ct_state_ttl\", \"ct_flw_http_mthd\", \"is_ftp_login\", \"ct_ftp_cmd\", \"ct_srv_src\", \"ct_srv_dst\", \"ct_dst_ltm\", \"ct_src_ltm\",\n",
        "                  \"ct_src_dport_ltm\", \"ct_dst_sport_ltm\", \"ct_dst_src_ltm\", \"attack_cat\", \"Label\"]\n",
        "\n",
        "# Load the datasets\n",
        "unsw_frames = [pd.read_csv(f'/content/drive/MyDrive/6data/UNSW/UNSW-NB15_{i}.csv', names=unsw_col_names) for i in range(1, 5)]\n",
        "\n",
        "# Concatenate all parts\n",
        "unsw_nb15 = pd.concat(unsw_frames, ignore_index=True)\n"
      ],
      "metadata": {
        "id": "IjYVCHC9uY-c"
      },
      "execution_count": null,
      "outputs": []
    },
    {
      "cell_type": "code",
      "source": [
        "# CIC_IDS17 dataset column names for dataA and dataB are different, we will load them separately\n",
        "cic_ids17_a_col_names = [\"Destination Port\", \"Flow Duration\", \"Total Fwd Packets\", \"Total Backward Packets\", \"Total Length of Fwd Packets\", \"Total Length of Bwd Packets\",\n",
        "                         \"Fwd Packet Length Max\", \"Fwd Packet Length Min\", \"Fwd Packet Length Mean\", \"Fwd Packet Length Std\", \"Bwd Packet Length Max\", \"Bwd Packet Length Min\",\n",
        "                         \"Bwd Packet Length Mean\", \"Bwd Packet Length Std\", \"Flow Bytes/s\", \"Flow Packets/s\", \"Flow IAT Mean\", \"Flow IAT Std\", \"Flow IAT Max\", \"Flow IAT Min\",\n",
        "                         \"Fwd IAT Total\", \"Fwd IAT Mean\", \"Fwd IAT Std\", \"Fwd IAT Max\", \"Fwd IAT Min\", \"Bwd IAT Total\", \"Bwd IAT Mean\", \"Bwd IAT Std\", \"Bwd IAT Max\",\n",
        "                         \"Bwd IAT Min\", \"Fwd PSH Flags\", \"Bwd PSH Flags\", \"Fwd URG Flags\", \"Bwd URG Flags\", \"Fwd Header Length\", \"Bwd Header Length\", \"Fwd Packets/s\",\n",
        "                         \"Bwd Packets/s\", \"Min Packet Length\", \"Max Packet Length\", \"Packet Length Mean\", \"Packet Length Std\", \"Packet Length Variance\", \"FIN Flag Count\",\n",
        "                         \"SYN Flag Count\", \"RST Flag Count\", \"PSH Flag Count\", \"ACK Flag Count\", \"URG Flag Count\", \"CWE Flag Count\", \"ECE Flag Count\", \"Down/Up Ratio\",\n",
        "                         \"Average Packet Size\", \"Avg Fwd Segment Size\", \"Avg Bwd Segment Size\", \"Fwd Header Length.1\", \"Fwd Avg Bytes/Bulk\", \"Fwd Avg Packets/Bulk\",\n",
        "                         \"Fwd Avg Bulk Rate\", \"Bwd Avg Bytes/Bulk\", \"Bwd Avg Packets/Bulk\", \"Bwd Avg Bulk Rate\", \"Subflow Fwd Packets\", \"Subflow Fwd Bytes\",\n",
        "                         \"Subflow Bwd Packets\", \"Subflow Bwd Bytes\", \"Init_Win_bytes_forward\", \"Init_Win_bytes_backward\", \"act_data_pkt_fwd\", \"min_seg_size_forward\",\n",
        "                         \"Active Mean\", \"Active Std\", \"Active Max\", \"Active Min\", \"Idle Mean\", \"Idle Std\", \"Idle Max\", \"Idle Min\", \"Label\"]\n",
        "\n",
        "cic_ids17_b_col_names = [\"Flow ID\", \"Source IP\", \"Source Port\", \"Destination IP\", \"Destination Port\", \"Protocol\", \"Timestamp\", \"Flow Duration\", \"Total Fwd Packets\",\n",
        "                         \"Total Backward Packets\", \"Total Length of Fwd Packets\", \"Total Length of Bwd Packets\", \"Fwd Packet Length Max\", \"Fwd Packet Length Min\",\n",
        "                         \"Fwd Packet Length Mean\", \"Fwd Packet Length Std\", \"Bwd Packet Length Max\", \"Bwd Packet Length Min\", \"Bwd Packet Length Mean\", \"Bwd Packet Length Std\",\n",
        "                         \"Flow Bytes/s\", \"Flow Packets/s\", \"Flow IAT Mean\", \"Flow IAT Std\", \"Flow IAT Max\", \"Flow IAT Min\", \"Fwd IAT Total\", \"Fwd IAT Mean\", \"Fwd IAT Std\",\n",
        "                         \"Fwd IAT Max\", \"Fwd IAT Min\", \"Bwd IAT Total\", \"Bwd IAT Mean\", \"Bwd IAT Std\", \"Bwd IAT Max\", \"Bwd IAT Min\", \"Fwd PSH Flags\", \"Bwd PSH Flags\",\n",
        "                         \"Fwd URG Flags\", \"Bwd URG Flags\", \"Fwd Header Length\", \"Bwd Header Length\", \"Fwd Packets/s\", \"Bwd Packets/s\", \"Min Packet Length\", \"Max Packet Length\",\n",
        "                         \"Packet Length Mean\", \"Packet Length Std\", \"Packet Length Variance\", \"FIN Flag Count\", \"SYN Flag Count\", \"RST Flag Count\", \"PSH Flag Count\",\n",
        "                         \"ACK Flag Count\", \"URG Flag Count\", \"CWE Flag Count\", \"ECE Flag Count\", \"Down/Up Ratio\", \"Average Packet Size\", \"Avg Fwd Segment Size\",\n",
        "                         \"Avg Bwd Segment Size\", \"Fwd Header Length.1\", \"Fwd Avg Bytes/Bulk\", \"Fwd Avg Packets/Bulk\", \"Fwd Avg Bulk Rate\", \"Bwd Avg Bytes/Bulk\",\n",
        "                         \"Bwd Avg Packets/Bulk\", \"Bwd Avg Bulk Rate\", \"Subflow Fwd Packets\", \"Subflow Fwd Bytes\", \"Subflow Bwd Packets\", \"Subflow Bwd Bytes\",\n",
        "                         \"Init_Win_bytes_forward\", \"Init_Win_bytes_backward\", \"act_data_pkt_fwd\", \"min_seg_size_forward\", \"Active Mean\", \"Active Std\", \"Active Max\",\n",
        "                         \"Active Min\", \"Idle Mean\", \"Idle Std\", \"Idle Max\", \"Idle Min\", \"Label\"]\n",
        "\n",
        "# List the file names for both folders\n",
        "cic_ids17_a_files = [\"Friday-WorkingHours-Afternoon-DDos.pcap_ISCX.csv\", \"Friday-WorkingHours-Afternoon-DDos.pcap_ISCX.csv\", \"Friday-WorkingHours-Afternoon-PortScan.pcap_ISCX.csv\",\n",
        "                     \"Friday-WorkingHours-Morning.pcap_ISCX.csv\", \"Monday-WorkingHours.pcap_ISCX.csv\", \"Thursday-WorkingHours-Afternoon-Infilteration.pcap_ISCX.csv\",\n",
        "                     \"Thursday-WorkingHours-Morning-WebAttacks.pcap_ISCX.csv\", \"Tuesday-WorkingHours.pcap_ISCX.csv\", \"Wednesday-workingHours.pcap_ISCX.csv\"]\n",
        "\n",
        "\n",
        "cic_ids17_b_files = [\"Friday-WorkingHours-Afternoon-DDos.pcap_ISCX.csv\", \"Friday-WorkingHours-Afternoon-PortScan.pcap_ISCX.csv\", \"Friday-WorkingHours-Morning.pcap_ISCX.csv\",\n",
        "                     \"Monday-WorkingHours.pcap_ISCX.csv\", \"Thursday-WorkingHours-Afternoon-Infilteration.pcap_ISCX.csv\", \"Thursday-WorkingHours-Morning-WebAttacks.pcap_ISCX.csv\",\n",
        "                     \"Tuesday-WorkingHours.pcap_ISCX.csv\", \"Wednesday-workingHours.pcap_ISCX.csv\"]\n",
        "\n",
        "# Load the datasets for folder A\n",
        "cic_ids17_a_frames = [pd.read_csv(f'/content/drive/MyDrive/6data/CIC_IDS17/dataA/{file}', names=cic_ids17_a_col_names) for file in cic_ids17_a_files]\n",
        "\n",
        "# Load the datasets for folder B\n",
        "cic_ids17_b_frames = [pd.read_csv(f'/path/to/CIC_IDS17/dataB/{file}', names=cic_ids17_b_col_names) for file in cic_ids17_b_files]\n",
        "\n",
        "# Concatenate all parts for both folders\n",
        "cic_ids17_a = pd.concat(cic_ids17_a_frames, ignore_index=True)\n",
        "cic_ids17_b = pd.concat(cic_ids17_b_frames, ignore_index=True)\n",
        "\n",
        "# Finally, concatenate folder A and B datasets\n",
        "cic_ids17 = pd.concat([cic_ids17_a, cic_ids17_b], ignore_index=True)\n"
      ],
      "metadata": {
        "id": "bPyuCVzlvETN"
      },
      "execution_count": null,
      "outputs": []
    }
  ]
}